{
 "cells": [
  {
   "cell_type": "code",
   "execution_count": 124,
   "metadata": {},
   "outputs": [],
   "source": [
    "import requests\n",
    "import json\n",
    "import keys"
   ]
  },
  {
   "cell_type": "code",
   "execution_count": 43,
   "metadata": {},
   "outputs": [],
   "source": [
    "# https://documenter.getpostman.com/view/12156495/TVes8SL9#9720c1b6-941e-4cd3-8910-0b85daaf1e1f"
   ]
  },
  {
   "cell_type": "code",
   "execution_count": 122,
   "metadata": {},
   "outputs": [],
   "source": [
    "def pretty_json(ugly_json):\n",
    "    parsed_json = json.loads(ugly_json)\n",
    "\n",
    "    pretty_json = json.dumps(parsed_json, indent=4)\n",
    "\n",
    "    print(pretty_json)\n",
    "    return '--'"
   ]
  },
  {
   "cell_type": "code",
   "execution_count": 75,
   "metadata": {},
   "outputs": [
    {
     "name": "stdout",
     "output_type": "stream",
     "text": [
      "ed82f199-e226-4ab4-b129-cd79c215f2b5\n"
     ]
    }
   ],
   "source": [
    "import requests\n",
    "\n",
    "url = \"https://www.uuidgenerator.net/api/guid\"\n",
    "\n",
    "payload={}\n",
    "headers = {}\n",
    "\n",
    "response = requests.request(\"GET\", url, headers=headers, data=payload)\n",
    "\n",
    "print(response.text)\n"
   ]
  },
  {
   "cell_type": "code",
   "execution_count": 31,
   "metadata": {},
   "outputs": [
    {
     "name": "stdout",
     "output_type": "stream",
     "text": [
      "[\n",
      "    {\n",
      "        \"id\": 16841711,\n",
      "        \"type\": \"personal\",\n",
      "        \"details\": {\n",
      "            \"firstName\": \"Alain\",\n",
      "            \"lastName\": \"Parize\",\n",
      "            \"dateOfBirth\": \"1978-09-14\",\n",
      "            \"phoneNumber\": \"+442038087139\",\n",
      "            \"avatar\": null,\n",
      "            \"occupation\": null,\n",
      "            \"occupations\": null,\n",
      "            \"primaryAddress\": 37852904,\n",
      "            \"firstNameInKana\": null,\n",
      "            \"lastNameInKana\": null,\n",
      "            \"localizedInformation\": []\n",
      "        }\n",
      "    },\n",
      "    {\n",
      "        \"id\": 16841712,\n",
      "        \"type\": \"business\",\n",
      "        \"details\": {\n",
      "            \"name\": \"INFRATAL\",\n",
      "            \"registrationNumber\": \"07209813\",\n",
      "            \"acn\": null,\n",
      "            \"abn\": null,\n",
      "            \"arbn\": null,\n",
      "            \"companyType\": \"LIMITED\",\n",
      "            \"companyRole\": \"OWNER\",\n",
      "            \"descriptionOfBusiness\": \"IT_SERVICES\",\n",
      "            \"primaryAddress\": 37852905,\n",
      "            \"webpage\": null,\n",
      "            \"businessCategory\": \"IT_SERVICES\",\n",
      "            \"businessSubCategory\": null,\n",
      "            \"localizedInformation\": []\n",
      "        }\n",
      "    }\n",
      "]\n"
     ]
    },
    {
     "data": {
      "text/plain": [
       "'--'"
      ]
     },
     "execution_count": 31,
     "metadata": {},
     "output_type": "execute_result"
    }
   ],
   "source": [
    "url = f\"{keys.HOST}/v1/profiles\"\n",
    "\n",
    "payload={}\n",
    "files={}\n",
    "headers = {\n",
    "  'Authorization': f'Bearer {keys.API}'\n",
    "}\n",
    "\n",
    "response = requests.request(\"GET\", url, headers=headers, data=payload, files=files)\n",
    "\n",
    "pretty_json(response.text)\n"
   ]
  },
  {
   "cell_type": "code",
   "execution_count": 51,
   "metadata": {},
   "outputs": [],
   "source": [
    "def Check_Balance():\n",
    "  url = f\"{keys.HOST}/v1/borderless-accounts?profileId={keys.PROFILE_ID}\"\n",
    "\n",
    "  payload={}\n",
    "  headers = {\n",
    "    'Authorization': f'Bearer {keys.API}'\n",
    "  }\n",
    "\n",
    "  response = requests.request(\"GET\", url, headers=headers, data=payload)\n",
    "\n",
    "  data = json.loads(response.text)\n",
    "  \n",
    "  for account in data:\n",
    "    for balance in account['balances']:\n",
    "        print(f\"Currency: {balance['currency']}, Balance: {balance['amount']['value']}\")\n"
   ]
  },
  {
   "cell_type": "code",
   "execution_count": 125,
   "metadata": {},
   "outputs": [],
   "source": [
    "def Change(source,target,source_amount):\n",
    "\n",
    "  url = f\"{keys.HOST}/v1/quotes\"\n",
    "\n",
    "  payload = json.dumps({\n",
    "    \"source\": f\"{source}\",\n",
    "    \"target\": f\"{target}\",\n",
    "    \"sourceAmount\": f\"{source_amount}\",\n",
    "    \"rateType\": \"FIXED\",\n",
    "    \"type\": \"BALANCE_PAYOUT\",\n",
    "    \"profile\": keys.PROFILE_ID\n",
    "  })\n",
    "  headers = {\n",
    "    'Authorization': f'Bearer {keys.API}',\n",
    "    'Content-Type': 'application/json'\n",
    "  }\n",
    "\n",
    "  response = requests.request(\"POST\", url, headers=headers, data=payload)\n",
    "\n",
    "  data = json.loads(response.text)\n",
    "\n",
    "  # extracted_data = {\n",
    "  #     \"id\": data[\"id\"],\n",
    "  #     \"source\": data[\"source\"],\n",
    "  #     \"target\": data[\"target\"],\n",
    "  #     \"sourceAmount\": data[\"sourceAmount\"],\n",
    "  #     \"targetAmount\": data[\"targetAmount\"],\n",
    "  #     \"rate\": data[\"rate\"],\n",
    "  #     \"deliveryEstimate\": data[\"deliveryEstimate\"],\n",
    "  #     \"fee\": data[\"fee\"]\n",
    "  # }\n",
    "\n",
    "  # return (json.dumps(extracted_data, indent=4))\n",
    "  return data\n"
   ]
  },
  {
   "cell_type": "code",
   "execution_count": 71,
   "metadata": {},
   "outputs": [],
   "source": [
    "def Validate_Transfer(transfer_id):\n",
    "\n",
    "    url = f\"{keys.HOST}/v1/simulation/transfers/{transfer_id}/funds_converted\"\n",
    "\n",
    "    payload={}\n",
    "    headers = {\n",
    "    'Authorization': f'Bearer {keys.API}'\n",
    "    }\n",
    "\n",
    "    response = requests.request(\"GET\", url, headers=headers, data=payload)\n",
    "\n",
    "    return json.loads(response.text)\n"
   ]
  },
  {
   "cell_type": "code",
   "execution_count": 73,
   "metadata": {},
   "outputs": [],
   "source": [
    "def get_multicurrency_id():\n",
    "\n",
    "    url = f\"{keys.HOST}/v1/borderless-accounts?profileId={keys.PROFILE_ID}\"\n",
    "\n",
    "    payload={}\n",
    "    headers = {\n",
    "    'Authorization': f'Bearer {keys.API}'\n",
    "    }\n",
    "\n",
    "    response = requests.request(\"GET\", url, headers=headers, data=payload)\n",
    "\n",
    "    return json.loads(response.text)\n"
   ]
  },
  {
   "cell_type": "code",
   "execution_count": 103,
   "metadata": {},
   "outputs": [],
   "source": [
    "def get_price_speed(source,target,targetAmount):\n",
    "\n",
    "    url = f\"{keys.HOST}/v1/quotes?source={source}&target={target}&rateType=FIXED&targetAmount={targetAmount}\"\n",
    "\n",
    "    payload={}\n",
    "    headers = {\n",
    "        'Authorization': f'Bearer {keys.API}',\n",
    "        'Content-Type': 'application/json'\n",
    "    }\n",
    "\n",
    "    response = requests.request(\"GET\", url, headers=headers, data=payload)\n",
    "\n",
    "    return json.loads(response.text)\n"
   ]
  },
  {
   "cell_type": "code",
   "execution_count": 82,
   "metadata": {},
   "outputs": [
    {
     "name": "stdout",
     "output_type": "stream",
     "text": [
      "{\"errors\":[{\"code\":\"bad.request\",\"message\":\"Problem with deserialization of a transferCreationMap: Cannot coerce empty String (\\\"\\\") to `com.transferwise.gateway.proxy.webapp.model.CreateTransferDetails` value (but could if coercion was enabled using `CoercionConfig`)\\n at [Source: UNKNOWN; byte offset: #UNKNOWN] (through reference chain: com.transferwise.gateway.proxy.webapp.model.CreateTransfer[\\\"details\\\"])\",\"arguments\":[]}]}\n"
     ]
    }
   ],
   "source": [
    "import requests\n",
    "import json\n",
    "\n",
    "url = f\"{keys.HOST}/v1/transfers\"\n",
    "\n",
    "quote_id = Change('USD','EUR',1000)['id']\n",
    "\n",
    "\n",
    "payload = json.dumps({\n",
    "    \"targetAccount\": \"148941324\",\n",
    "    \"quote\": f\"{quote_id}\",\n",
    "    \"customerTransactionId\": f\"{keys.UUID}\",\n",
    "    \"details\": \"\",\n",
    "    \"reference\": \"my ref\",\n",
    "    \"transferPurpose\": 'verification.transfers.purpose.pay.bills'\n",
    "  })\n",
    "\n",
    "\n",
    "headers = {\n",
    "  'Authorization': f'Bearer {keys.API}',\n",
    "  'Content-Type': 'application/json'\n",
    "}\n",
    "\n",
    "response = requests.request(\"POST\", url, headers=headers, data=payload)\n",
    "\n",
    "print(response.text)\n"
   ]
  },
  {
   "cell_type": "code",
   "execution_count": 83,
   "metadata": {},
   "outputs": [],
   "source": [
    "def Change_Currency():\n",
    "\n",
    "    url = f\"{keys.HOST}/v1/transfers\"\n",
    "\n",
    "    payload = \"{\\n    \\\"targetAccount\\\": {{new-recipient-id}},\\n    \\\"quote\\\": {{new-quote-id}},\\n    \\\"customerTransactionId\\\": \\\"{{idempotency-guid}}\\\",\\n    \\\"details\\\": {\\n        \\\"reference\\\": \\\"my ref\\\",\\n        \\\"transferPurpose\\\": \\\"verification.transfers.purpose.pay.bills\\\"\\n    }\\n}\"\n",
    "    headers = {\n",
    "    'Authorization': 'Bearer {{token}}',\n",
    "    'Content-Type': 'application/json'\n",
    "    }\n",
    "\n",
    "    response = requests.request(\"POST\", url, headers=headers, data=payload)\n",
    "\n",
    "    print(response.text)\n"
   ]
  },
  {
   "cell_type": "code",
   "execution_count": 84,
   "metadata": {},
   "outputs": [
    {
     "name": "stdout",
     "output_type": "stream",
     "text": [
      "Currency: USD, Balance: 3000000.0\n",
      "Currency: AUD, Balance: 4000000.0\n",
      "Currency: EUR, Balance: 2000000.0\n",
      "Currency: GBP, Balance: 999984.0\n"
     ]
    }
   ],
   "source": [
    "Check_Balance()"
   ]
  },
  {
   "cell_type": "code",
   "execution_count": 126,
   "metadata": {},
   "outputs": [
    {
     "data": {
      "text/plain": [
       "{'id': 21085923,\n",
       " 'source': 'USD',\n",
       " 'target': 'EUR',\n",
       " 'sourceAmount': 1000.0,\n",
       " 'targetAmount': 905.82,\n",
       " 'type': 'BALANCE_PAYOUT',\n",
       " 'rate': 0.910065,\n",
       " 'createdTime': '2023-07-11T13:56:56.112Z',\n",
       " 'createdByUserId': 6291644,\n",
       " 'profile': 16841712,\n",
       " 'business': 16841712,\n",
       " 'rateType': 'FIXED',\n",
       " 'deliveryEstimate': '2023-07-12T09:31:00Z',\n",
       " 'fee': 4.66,\n",
       " 'feeDetails': {'transferwise': 4.66,\n",
       "  'payIn': 0.0,\n",
       "  'discount': 0,\n",
       "  'priceSetId': 130,\n",
       "  'partner': 0.0},\n",
       " 'allowedProfileTypes': ['PERSONAL', 'BUSINESS'],\n",
       " 'guaranteedTargetAmount': False,\n",
       " 'ofSourceAmount': True}"
      ]
     },
     "execution_count": 126,
     "metadata": {},
     "output_type": "execute_result"
    }
   ],
   "source": [
    "Change('USD','EUR',1000)"
   ]
  },
  {
   "cell_type": "code",
   "execution_count": 85,
   "metadata": {},
   "outputs": [
    {
     "data": {
      "text/plain": [
       "{'errors': [{'code': 'Not Found',\n",
       "   'message': '404 Not Found: \"{\"errors\":[{\"code\":\"transfer.not.found\",\"message\":\"Transfer with such id is not found among your transfers\",\"arguments\":[]}]}\"',\n",
       "   'arguments': []}]}"
      ]
     },
     "execution_count": 85,
     "metadata": {},
     "output_type": "execute_result"
    }
   ],
   "source": [
    "Validate_Transfer(21085853)"
   ]
  },
  {
   "cell_type": "code",
   "execution_count": 74,
   "metadata": {},
   "outputs": [
    {
     "data": {
      "text/plain": [
       "[{'id': 64440,\n",
       "  'profileId': 16841712,\n",
       "  'recipientId': 148941324,\n",
       "  'creationTime': '2023-07-11T12:27:53.899Z',\n",
       "  'modificationTime': '2023-07-11T12:27:53.899Z',\n",
       "  'active': True,\n",
       "  'eligible': True,\n",
       "  'balances': [{'id': 158818,\n",
       "    'balanceType': 'AVAILABLE',\n",
       "    'currency': 'USD',\n",
       "    'amount': {'value': 3000000.0, 'currency': 'USD'},\n",
       "    'reservedAmount': {'value': 0.0, 'currency': 'USD'},\n",
       "    'bankDetails': None},\n",
       "   {'id': 158819,\n",
       "    'balanceType': 'AVAILABLE',\n",
       "    'currency': 'AUD',\n",
       "    'amount': {'value': 4000000.0, 'currency': 'AUD'},\n",
       "    'reservedAmount': {'value': 0.0, 'currency': 'AUD'},\n",
       "    'bankDetails': None},\n",
       "   {'id': 158817,\n",
       "    'balanceType': 'AVAILABLE',\n",
       "    'currency': 'EUR',\n",
       "    'amount': {'value': 2000000.0, 'currency': 'EUR'},\n",
       "    'reservedAmount': {'value': 0.0, 'currency': 'EUR'},\n",
       "    'bankDetails': None},\n",
       "   {'id': 158816,\n",
       "    'balanceType': 'AVAILABLE',\n",
       "    'currency': 'GBP',\n",
       "    'amount': {'value': 999984.0, 'currency': 'GBP'},\n",
       "    'reservedAmount': {'value': 0.0, 'currency': 'GBP'},\n",
       "    'bankDetails': None}]}]"
      ]
     },
     "execution_count": 74,
     "metadata": {},
     "output_type": "execute_result"
    }
   ],
   "source": [
    "get_multicurrency_id()"
   ]
  },
  {
   "cell_type": "code",
   "execution_count": 90,
   "metadata": {},
   "outputs": [],
   "source": [
    "def get_rates(source,target):\n",
    "    url = f\"{keys.HOST}/v1/rates?source={source}&target={target}\"\n",
    "\n",
    "    payload={}\n",
    "    headers = {\n",
    "        'Authorization': f'Bearer {keys.API}',\n",
    "        'Content-Type': 'application/json'\n",
    "    }\n",
    "\n",
    "    response = requests.request(\"GET\", url, headers=headers, data=payload)\n",
    "\n",
    "    return json.loads(response.text)"
   ]
  },
  {
   "cell_type": "code",
   "execution_count": 109,
   "metadata": {},
   "outputs": [],
   "source": [
    "def get_historic_rates(source,target,start,end):\n",
    "    # start and end format : 2018-03-12\n",
    "    # 30 days max\n",
    "    url = f\"{keys.HOST}/v1/rates?source={source}&target={target}&from={start}T00:00:00&to={end}T23:59:59&group=day\"\n",
    "\n",
    "    payload={}\n",
    "    headers = {\n",
    "        'Authorization': f'Bearer {keys.API}',\n",
    "        'Content-Type': 'application/json'\n",
    "    }\n",
    "\n",
    "    response = requests.request(\"GET\", url, headers=headers, data=payload)\n",
    "\n",
    "    return json.loads(response.text)\n"
   ]
  },
  {
   "cell_type": "code",
   "execution_count": 120,
   "metadata": {},
   "outputs": [
    {
     "data": {
      "text/plain": [
       "[{'rate': 1.09847,\n",
       "  'source': 'EUR',\n",
       "  'target': 'USD',\n",
       "  'time': '2023-07-11T13:44:32+0000'}]"
      ]
     },
     "execution_count": 120,
     "metadata": {},
     "output_type": "execute_result"
    }
   ],
   "source": [
    "get_rates('EUR','USD')"
   ]
  },
  {
   "cell_type": "code",
   "execution_count": 121,
   "metadata": {},
   "outputs": [
    {
     "data": {
      "text/plain": [
       "[{'rate': 1.135,\n",
       "  'source': 'EUR',\n",
       "  'target': 'USD',\n",
       "  'time': '2018-08-15T00:00:00+0000'}]"
      ]
     },
     "execution_count": 121,
     "metadata": {},
     "output_type": "execute_result"
    }
   ],
   "source": [
    "get_historic_rates('EUR','USD','2018-08-15','2018-08-15')"
   ]
  },
  {
   "cell_type": "code",
   "execution_count": 119,
   "metadata": {},
   "outputs": [
    {
     "data": {
      "text/plain": [
       "{'source': 'EUR',\n",
       " 'target': 'CHF',\n",
       " 'sourceAmount': 311.19,\n",
       " 'targetAmount': 300.0,\n",
       " 'type': 'REGULAR',\n",
       " 'rate': 0.970146,\n",
       " 'createdTime': '2023-07-11T13:39:01.717Z',\n",
       " 'rateType': 'FIXED',\n",
       " 'deliveryEstimate': '2023-07-11T14:14:01Z',\n",
       " 'fee': 1.96,\n",
       " 'feeDetails': {'transferwise': 1.96,\n",
       "  'payIn': 0.0,\n",
       "  'discount': 0,\n",
       "  'priceSetId': 129,\n",
       "  'partner': 0.0},\n",
       " 'allowedProfileTypes': ['PERSONAL', 'BUSINESS'],\n",
       " 'guaranteedTargetAmount': False,\n",
       " 'ofSourceAmount': False}"
      ]
     },
     "execution_count": 119,
     "metadata": {},
     "output_type": "execute_result"
    }
   ],
   "source": [
    "get_price_speed('EUR','CHF',300)"
   ]
  },
  {
   "cell_type": "code",
   "execution_count": 145,
   "metadata": {},
   "outputs": [
    {
     "name": "stdout",
     "output_type": "stream",
     "text": [
      "\"1939.62000000\"\n"
     ]
    }
   ],
   "source": [
    "from alpha_vantage.foreignexchange import ForeignExchange\n",
    "import json\n",
    "\n",
    "def get_gold_price(api_key):\n",
    "    fx = ForeignExchange(key=api_key)\n",
    "    result, _ = fx.get_currency_exchange_rate(from_currency='XAU', to_currency='USD')\n",
    "    return result['9. Ask Price']\n",
    "\n",
    "api_key = 'YOUR_API_KEY'\n",
    "result = get_gold_price(api_key)\n",
    "print(json.dumps(result, indent=4))\n"
   ]
  },
  {
   "cell_type": "code",
   "execution_count": 156,
   "metadata": {},
   "outputs": [],
   "source": [
    "def True_Price_TAL(source):\n",
    "    chf = get_price_speed(source,'CHF',100)['sourceAmount']\n",
    "    eur = get_price_speed(source,'EUR',250)['sourceAmount']\n",
    "    gbp = get_price_speed(source,'GBP',50)['sourceAmount']\n",
    "    jpy = get_price_speed(source,'JPY',18000)['sourceAmount']\n",
    "    cny = get_price_speed(source,'CNY',1600)['sourceAmount']\n",
    "    sgd = get_price_speed(source,'SGD',80)['sourceAmount']\n",
    "    gold = float(get_gold_price(api_key))\n",
    "    gold *= 0.2\n",
    "    usdgold = get_price_speed(source,'USD',gold)['sourceAmount']\n",
    "    \n",
    "    return chf + eur + gbp + jpy + cny + sgd + usdgold"
   ]
  },
  {
   "cell_type": "code",
   "execution_count": 159,
   "metadata": {},
   "outputs": [
    {
     "name": "stdout",
     "output_type": "stream",
     "text": [
      "1000 TAL vous coûtera 1302.66 USD\n"
     ]
    }
   ],
   "source": [
    "print(f'1000 TAL vous coûtera {True_Price_TAL(\"USD\")} USD')"
   ]
  }
 ],
 "metadata": {
  "kernelspec": {
   "display_name": "Python 3",
   "language": "python",
   "name": "python3"
  },
  "language_info": {
   "codemirror_mode": {
    "name": "ipython",
    "version": 3
   },
   "file_extension": ".py",
   "mimetype": "text/x-python",
   "name": "python",
   "nbconvert_exporter": "python",
   "pygments_lexer": "ipython3",
   "version": "3.9.13"
  },
  "orig_nbformat": 4
 },
 "nbformat": 4,
 "nbformat_minor": 2
}
