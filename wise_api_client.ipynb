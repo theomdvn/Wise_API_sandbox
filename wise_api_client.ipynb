{
 "cells": [
  {
   "cell_type": "code",
   "execution_count": 53,
   "metadata": {},
   "outputs": [],
   "source": [
    "import requests\n",
    "import json\n",
    "import keys\n",
    "\n",
    "#Add a file keys.py in the folder, and input your own API KEYS\n",
    "\n",
    "class WiseClient:\n",
    "    def __init__(self, access_token):\n",
    "        self.access_token = access_token\n",
    "        self.base_url = \"https://api.sandbox.transferwise.tech/\"\n",
    "        self.headers = {\n",
    "            'Authorization': f'Bearer {self.access_token}',\n",
    "            'Content-Type': 'application/json'\n",
    "        }\n",
    "    def generate_uuid(self):\n",
    "        url = \"https://www.uuidgenerator.net/api/guid\"\n",
    "\n",
    "        payload={}\n",
    "        headers = {}\n",
    "\n",
    "        response = requests.request(\"GET\", url, headers=headers, data=payload)\n",
    "\n",
    "        return response.text\n",
    "\n",
    "        \n",
    "    def get_balance(self, profile_id):\n",
    "        url = self.base_url + f'v1/borderless-accounts?profileId={profile_id}'\n",
    "        response = requests.get(url, headers=self.headers)\n",
    "        balance_data = response.json()\n",
    "        return balance_data  # This should return your account balances in different currencies\n",
    "\n",
    "    def create_quote(self, profile_id, source_currency, target_currency, amount):\n",
    "        url = self.base_url + 'v1/quotes'\n",
    "        quote_payload = {\n",
    "            'profile': profile_id,\n",
    "            'source': source_currency,\n",
    "            'target': target_currency,\n",
    "            'sourceAmount': amount,\n",
    "            'rateType': 'FIXED',\n",
    "            'type': 'BALANCE_CONVERSION'\n",
    "        }\n",
    "        response = requests.post(url, headers=self.headers, data=json.dumps(quote_payload))\n",
    "        quote_data = response.json()\n",
    "        return quote_data  # This should return the details of the quote including its id\n",
    "\n",
    "    def check_id(self,account_id):\n",
    "        url = self.base_url+ '/v1/accounts/' + account_id\n",
    "        response = requests.get(url, headers=self.headers)\n",
    "        return response.json()\n",
    "\n",
    "    def initiate_transfer(self, target_account_id, quote_id, reference):\n",
    "        url = self.base_url + 'v1/transfers'\n",
    "        transfer_payload = {\n",
    "            'targetAccount': target_account_id,\n",
    "            'quote': quote_id,\n",
    "            'customerTransactionId': self.generate_uuid(),\n",
    "            'details': {\n",
    "                'reference': reference,\n",
    "                'transferPurpose': 'verification.transfers.purpose.pay.bills'\n",
    "            }\n",
    "        }\n",
    "        response = requests.post(url, headers=self.headers, data=json.dumps(transfer_payload))\n",
    "        transfer_data = response.json()\n",
    "        return transfer_data  \n",
    "    \n",
    "    def make_payment(self, profile_id, transfer_id):\n",
    "        url = self.base_url + f'v3/profiles/{profile_id}/transfers/{transfer_id}/payments'\n",
    "        payment_payload = {\n",
    "            'type': 'BALANCE',\n",
    "        }\n",
    "        response = requests.post(url, headers=self.headers, data=json.dumps(payment_payload))\n",
    "        payment_data = response.json()\n",
    "        return payment_data\n",
    "    \n",
    "\n"
   ]
  },
  {
   "cell_type": "code",
   "execution_count": 28,
   "metadata": {},
   "outputs": [
    {
     "name": "stdout",
     "output_type": "stream",
     "text": [
      "158818 158817\n"
     ]
    }
   ],
   "source": [
    "wise_client = WiseClient(keys.API)\n",
    "\n",
    "profile_id = keys.PROFILE_ID\n",
    "balances = wise_client.get_balance(profile_id)\n",
    "\n",
    "# Find USD and EUR balance ids\n",
    "usd_balance_id = next((balance['id'] for balance in balances[0]['balances'] if balance['currency'] == 'USD'), None)\n",
    "eur_balance_id = next((balance['id'] for balance in balances[0]['balances'] if balance['currency'] == 'EUR'), None)\n",
    "\n",
    "print(usd_balance_id,eur_balance_id)"
   ]
  },
  {
   "cell_type": "code",
   "execution_count": 49,
   "metadata": {},
   "outputs": [],
   "source": [
    "# https://github.com/transferwise/api-docs/blob/master/source/includes/_payouts.md"
   ]
  },
  {
   "cell_type": "code",
   "execution_count": 54,
   "metadata": {},
   "outputs": [
    {
     "name": "stdout",
     "output_type": "stream",
     "text": [
      "{'type': 'BALANCE', 'status': 'REJECTED', 'errorCode': 'balance.payment-option-unavailable', 'errorMessage': None}\n"
     ]
    }
   ],
   "source": [
    "# Create a Wise client\n",
    "wise_client = WiseClient(keys.API)\n",
    "\n",
    "# Create a quote\n",
    "profile_id = keys.PROFILE_ID # replace this with your profile id\n",
    "quote_data = wise_client.create_quote(profile_id, 'USD', 'EUR', 100)\n",
    "\n",
    "balances = wise_client.get_balance(profile_id)\n",
    "\n",
    "# Find USD and EUR balance ids\n",
    "usd_balance_id = next((balance['id'] for balance in balances[0]['balances'] if balance['currency'] == 'USD'), None)\n",
    "eur_balance_id = next((balance['id'] for balance in balances[0]['balances'] if balance['currency'] == 'EUR'), None)\n",
    "\n",
    "# Initiate a transfer\n",
    "target_account_id = keys.RECIPIENT_ID\n",
    "reference = 'reference'  # replace this with your reference text\n",
    "transfer_data = wise_client.initiate_transfer(target_account_id, quote_data['id'], reference)\n",
    "\n",
    "payment_data = wise_client.make_payment(profile_id, transfer_data['id'])\n",
    "\n",
    "print(payment_data)"
   ]
  }
 ],
 "metadata": {
  "kernelspec": {
   "display_name": "Python 3",
   "language": "python",
   "name": "python3"
  },
  "language_info": {
   "codemirror_mode": {
    "name": "ipython",
    "version": 3
   },
   "file_extension": ".py",
   "mimetype": "text/x-python",
   "name": "python",
   "nbconvert_exporter": "python",
   "pygments_lexer": "ipython3",
   "version": "3.9.13"
  },
  "orig_nbformat": 4
 },
 "nbformat": 4,
 "nbformat_minor": 2
}
