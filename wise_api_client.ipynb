{
 "cells": [
  {
   "cell_type": "code",
   "execution_count": 129,
   "metadata": {},
   "outputs": [],
   "source": [
    "import requests\n",
    "import json\n",
    "import keys\n",
    "from alpha_vantage.foreignexchange import ForeignExchange\n",
    "import numpy as np"
   ]
  },
  {
   "cell_type": "code",
   "execution_count": 80,
   "metadata": {},
   "outputs": [],
   "source": [
    "def get_gold_price(api_key):\n",
    "    fx = ForeignExchange(key=api_key)\n",
    "    result, _ = fx.get_currency_exchange_rate(from_currency='XAU', to_currency='USD')\n",
    "    return result['9. Ask Price']"
   ]
  },
  {
   "cell_type": "code",
   "execution_count": 81,
   "metadata": {},
   "outputs": [
    {
     "name": "stdout",
     "output_type": "stream",
     "text": [
      "\"1940.61000000\"\n"
     ]
    }
   ],
   "source": [
    "api_key = keys.ALPHA_VANTAGE\n",
    "result = get_gold_price(api_key)\n",
    "print(json.dumps(result, indent=4))"
   ]
  },
  {
   "cell_type": "code",
   "execution_count": 189,
   "metadata": {},
   "outputs": [],
   "source": [
    "#Add a file keys.py in the folder, and input your own API KEYS\n",
    "\n",
    "class WiseClient:\n",
    "    def __init__(self, access_token):\n",
    "        self.access_token = access_token\n",
    "        self.base_url = \"https://api.sandbox.transferwise.tech/\"\n",
    "        self.headers = {\n",
    "            'Authorization': f'Bearer {self.access_token}',\n",
    "            'Content-Type': 'application/json'\n",
    "        }\n",
    "        self.gold = float(get_gold_price(api_key))\n",
    "    def generate_uuid(self):\n",
    "        url = \"https://www.uuidgenerator.net/api/guid\"\n",
    "\n",
    "        payload={}\n",
    "        headers = {}\n",
    "\n",
    "        response = requests.request(\"GET\", url, headers=headers, data=payload)\n",
    "\n",
    "        return response.text\n",
    "\n",
    "        \n",
    "    def get_balance(self, profile_id):\n",
    "        url = self.base_url + f'v1/borderless-accounts?profileId={profile_id}'\n",
    "        response = requests.get(url, headers=self.headers)\n",
    "        balance_data = response.json()\n",
    "        return balance_data  # This should return your account balances in different currencies\n",
    "\n",
    "    def get_rates(self,source,target):\n",
    "        url = self.base_url + f'/v1/rates?source={source}&target={target}'\n",
    "        response = requests.get(url,headers=self.headers)\n",
    "        return response.json()\n",
    "    \n",
    "    def get_true_change_target(self,source,target,targetAmount):\n",
    "        url = self.base_url + f'/v1/quotes?source={source}&target={target}&rateType=FIXED&targetAmount={targetAmount}'\n",
    "        response = requests.get(url,headers=self.headers)\n",
    "        return response.json()\n",
    "    \n",
    "    def get_true_change_source(self,source,target,sourceAmount):\n",
    "        url = self.base_url + f'/v1/quotes?source={source}&target={target}&rateType=FIXED&sourceAmount={sourceAmount}'\n",
    "        response = requests.get(url,headers=self.headers)\n",
    "        return response.json()\n",
    "\n",
    "    def create_quote(self, profile_id, source_currency, target_currency, amount):\n",
    "        url = self.base_url + 'v1/quotes'\n",
    "        quote_payload = {\n",
    "            'profile': profile_id,\n",
    "            'source': source_currency,\n",
    "            'target': target_currency,\n",
    "            'sourceAmount': amount,\n",
    "            'rateType': 'FIXED',\n",
    "            'type': 'BALANCE_CONVERSION'\n",
    "        }\n",
    "        response = requests.post(url, headers=self.headers, data=json.dumps(quote_payload))\n",
    "        quote_data = response.json()\n",
    "        return quote_data  # This should return the details of the quote including its id\n",
    "\n",
    "    def check_id(self,account_id):\n",
    "        url = self.base_url+ '/v1/accounts/' + account_id\n",
    "        response = requests.get(url, headers=self.headers)\n",
    "        return response.json()\n",
    "\n",
    "    def initiate_transfer(self, target_account_id, quote_id, reference):\n",
    "        url = self.base_url + 'v1/transfers'\n",
    "        transfer_payload = {\n",
    "            'targetAccount': target_account_id,\n",
    "            'quote': quote_id,\n",
    "            'customerTransactionId': self.generate_uuid(),\n",
    "            'details': {\n",
    "                'reference': reference,\n",
    "                'transferPurpose': 'verification.transfers.purpose.pay.bills'\n",
    "            }\n",
    "        }\n",
    "        response = requests.post(url, headers=self.headers, data=json.dumps(transfer_payload))\n",
    "        transfer_data = response.json()\n",
    "        return transfer_data  \n",
    "    \n",
    "    def make_payment(self, profile_id, transfer_id):\n",
    "        url = self.base_url + f'v3/profiles/{profile_id}/transfers/{transfer_id}/payments'\n",
    "        payment_payload = {\n",
    "            'type': 'BALANCE',\n",
    "        }\n",
    "        response = requests.post(url, headers=self.headers, data=json.dumps(payment_payload))\n",
    "        payment_data = response.json()\n",
    "        return payment_data\n",
    "    \n",
    "    def TAL_weights(self,source):\n",
    "        weights = np.array([\n",
    "            self.get_rates('CHF', source)[0]['rate'] * 100,\n",
    "            self.get_rates('EUR', source)[0]['rate']  * 250,\n",
    "            self.get_rates('GBP', source)[0]['rate']  * 50,\n",
    "            self.get_rates('JPY', source)[0]['rate']  * 18000,\n",
    "            self.get_rates('CNY', source)[0]['rate']  * 1600,\n",
    "            self.get_rates('SGD', source)[0]['rate']  * 80,\n",
    "            self.get_rates('USD',source)[0]['rate']  * self.gold*0.2\n",
    "        ])\n",
    "\n",
    "        response = json.loads(self.TAL_rate(source))\n",
    "        \n",
    "        weights /= response['total_amount']\n",
    "\n",
    "        return weights\n",
    "    \n",
    "    def TAL_rate(self,source):\n",
    "        chf = self.get_true_change_target(source,'CHF',100)\n",
    "        chf_amount = chf['sourceAmount']\n",
    "        chf_fee = chf['fee']\n",
    "        eur = self.get_true_change_target(source,'EUR',250)\n",
    "        eur_amount = eur['sourceAmount']\n",
    "        eur_fee = eur['fee']\n",
    "        gbp = self.get_true_change_target(source,'GBP',50)\n",
    "        gbp_amount = gbp['sourceAmount']\n",
    "        gbp_fee = gbp['fee']\n",
    "        jpy = self.get_true_change_target(source,'JPY',18000)\n",
    "        jpy_amount = jpy['sourceAmount']\n",
    "        jpy_fee = jpy['fee']\n",
    "        cny = self.get_true_change_target(source,'CNY',1600)\n",
    "        cny_amount = cny['sourceAmount']\n",
    "        cny_fee = cny['fee']\n",
    "        sgd = self.get_true_change_target(source,'SGD',80)\n",
    "        sgd_amount = sgd['sourceAmount']\n",
    "        sgd_fee = sgd['fee']\n",
    "        gold = self.gold*0.2\n",
    "        usdgold = self.get_true_change_target(source,'USD',gold)\n",
    "        usdgold_amount = usdgold['sourceAmount']\n",
    "        usdgold_fee = usdgold['fee']\n",
    "\n",
    "        result_dict = {\n",
    "            'total_amount': chf_amount + eur_amount + gbp_amount + jpy_amount + cny_amount + sgd_amount + usdgold_amount,\n",
    "            'total_fee': chf_fee + eur_fee + gbp_fee + jpy_fee + cny_fee + sgd_fee + usdgold_fee,\n",
    "            'chf': {'amount': chf_amount, 'fee': chf_fee},\n",
    "            'eur': {'amount': eur_amount, 'fee': eur_fee},\n",
    "            'gbp': {'amount': gbp_amount, 'fee': gbp_fee},\n",
    "            'jpy': {'amount': jpy_amount, 'fee': jpy_fee},\n",
    "            'cny': {'amount': cny_amount, 'fee': cny_fee},\n",
    "            'sgd': {'amount': sgd_amount, 'fee': sgd_fee},\n",
    "            'usdgold': {'amount': usdgold_amount, 'fee': usdgold_fee}\n",
    "        }\n",
    "        \n",
    "        # Convert the dictionary to a JSON string\n",
    "        result_json = json.dumps(result_dict,indent=4)\n",
    "        \n",
    "        return result_json\n",
    "\n",
    "    def True_TAL_Change(self,source,sourceAmount):\n",
    "        weights = self.TAL_weights(source)\n",
    "\n",
    "        distribution = sourceAmount*weights\n",
    "\n",
    "        chf = self.get_true_change_source(source,'CHF',distribution[0])\n",
    "        chf_amount = chf['targetAmount']\n",
    "        chf_fee = chf['fee']\n",
    "        eur = self.get_true_change_source(source,'EUR',distribution[1])\n",
    "        eur_amount = eur['targetAmount']\n",
    "        eur_fee = eur['fee']\n",
    "        gbp = self.get_true_change_source(source,'GBP',distribution[2])\n",
    "        gbp_amount = gbp['targetAmount']\n",
    "        gbp_fee = gbp['fee']\n",
    "        jpy = self.get_true_change_source(source,'JPY',distribution[3])\n",
    "        jpy_amount = jpy['targetAmount']\n",
    "        jpy_fee = jpy['fee']\n",
    "        cny = self.get_true_change_source(source,'CNY',distribution[4])\n",
    "        cny_amount = cny['targetAmount']\n",
    "        cny_fee = cny['fee']\n",
    "        sgd = self.get_true_change_source(source,'SGD',distribution[5])\n",
    "        sgd_amount = sgd['targetAmount']\n",
    "        sgd_fee = sgd['fee']\n",
    "        usdgold = self.get_true_change_source(source,'USD',distribution[6])\n",
    "        gold_amount = usdgold['targetAmount'] / self.gold\n",
    "        gold_fee = usdgold['fee']\n",
    "\n",
    "        result_dict = {\n",
    "            'total_fee': chf_fee + eur_fee + gbp_fee + jpy_fee + cny_fee + sgd_fee + gold_fee,\n",
    "            'chf': {'amount': chf_amount, 'fee': chf_fee},\n",
    "            'eur': {'amount': eur_amount, 'fee': eur_fee},\n",
    "            'gbp': {'amount': gbp_amount, 'fee': gbp_fee},\n",
    "            'jpy': {'amount': jpy_amount, 'fee': jpy_fee},\n",
    "            'cny': {'amount': cny_amount, 'fee': cny_fee},\n",
    "            'sgd': {'amount': sgd_amount, 'fee': sgd_fee},\n",
    "            'gold': {'amount': gold_amount, 'fee': gold_fee}\n",
    "        }\n",
    "        result_json = json.dumps(result_dict,indent=4)\n",
    "        \n",
    "        return result_json\n",
    "\n",
    "    \n",
    "wise_client = WiseClient(keys.API)"
   ]
  },
  {
   "cell_type": "code",
   "execution_count": 190,
   "metadata": {},
   "outputs": [
    {
     "name": "stdout",
     "output_type": "stream",
     "text": [
      "{\n",
      "    \"total_fee\": 11.39,\n",
      "    \"chf\": {\n",
      "        \"amount\": 86.08,\n",
      "        \"fee\": 0.97\n",
      "    },\n",
      "    \"eur\": {\n",
      "        \"amount\": 216.94,\n",
      "        \"fee\": 0.63\n",
      "    },\n",
      "    \"gbp\": {\n",
      "        \"amount\": 42.91,\n",
      "        \"fee\": 0.71\n",
      "    },\n",
      "    \"jpy\": {\n",
      "        \"amount\": 15230,\n",
      "        \"fee\": 2.84\n",
      "    },\n",
      "    \"cny\": {\n",
      "        \"amount\": 1368.5,\n",
      "        \"fee\": 3.01\n",
      "    },\n",
      "    \"sgd\": {\n",
      "        \"amount\": 68.27,\n",
      "        \"fee\": 0.92\n",
      "    },\n",
      "    \"gold\": {\n",
      "        \"amount\": 0.17274423687574744,\n",
      "        \"fee\": 2.31\n",
      "    }\n",
      "}\n"
     ]
    }
   ],
   "source": [
    "distribution = wise_client.True_TAL_Change('EUR',1000)\n",
    "print(distribution)"
   ]
  },
  {
   "cell_type": "code",
   "execution_count": 181,
   "metadata": {},
   "outputs": [
    {
     "data": {
      "text/plain": [
       "array([0.08806115, 0.21316821, 0.04996821, 0.09965962, 0.17213181,\n",
       "       0.04623949, 0.30008921])"
      ]
     },
     "execution_count": 181,
     "metadata": {},
     "output_type": "execute_result"
    }
   ],
   "source": [
    "weights = wise_client.TAL_weights('BRL')\n",
    "weights"
   ]
  },
  {
   "cell_type": "code",
   "execution_count": 170,
   "metadata": {},
   "outputs": [
    {
     "name": "stdout",
     "output_type": "stream",
     "text": [
      "6275.700000000001\n"
     ]
    }
   ],
   "source": [
    "tal_rate = json.loads(wise_client.TAL_rate('BRL'))\n",
    "print(tal_rate['total_amount'])"
   ]
  },
  {
   "cell_type": "code",
   "execution_count": 49,
   "metadata": {},
   "outputs": [],
   "source": [
    "# https://github.com/transferwise/api-docs/blob/master/source/includes/_payouts.md"
   ]
  },
  {
   "cell_type": "code",
   "execution_count": 89,
   "metadata": {},
   "outputs": [
    {
     "name": "stdout",
     "output_type": "stream",
     "text": [
      "[{'id': 64440, 'profileId': 16841712, 'recipientId': 148941324, 'creationTime': '2023-07-11T12:27:53.899Z', 'modificationTime': '2023-07-11T12:27:53.899Z', 'active': True, 'eligible': True, 'balances': [{'id': 158818, 'balanceType': 'AVAILABLE', 'currency': 'USD', 'amount': {'value': 2999000.0, 'currency': 'USD'}, 'reservedAmount': {'value': 0.0, 'currency': 'USD'}, 'bankDetails': None}, {'id': 158819, 'balanceType': 'AVAILABLE', 'currency': 'AUD', 'amount': {'value': 4001496.24, 'currency': 'AUD'}, 'reservedAmount': {'value': 0.0, 'currency': 'AUD'}, 'bankDetails': None}, {'id': 158817, 'balanceType': 'AVAILABLE', 'currency': 'EUR', 'amount': {'value': 2000000.0, 'currency': 'EUR'}, 'reservedAmount': {'value': 0.0, 'currency': 'EUR'}, 'bankDetails': None}, {'id': 158816, 'balanceType': 'AVAILABLE', 'currency': 'GBP', 'amount': {'value': 999984.0, 'currency': 'GBP'}, 'reservedAmount': {'value': 0.0, 'currency': 'GBP'}, 'bankDetails': None}]}]\n",
      "158818 158817\n"
     ]
    }
   ],
   "source": [
    "profile_id = keys.PROFILE_ID\n",
    "balances = wise_client.get_balance(profile_id)\n",
    "\n",
    "# Find USD and EUR balance ids\n",
    "usd_balance_id = next((balance['id'] for balance in balances[0]['balances'] if balance['currency'] == 'USD'), None)\n",
    "eur_balance_id = next((balance['id'] for balance in balances[0]['balances'] if balance['currency'] == 'EUR'), None)\n",
    "\n",
    "print(balances)\n",
    "print(usd_balance_id,eur_balance_id)\n"
   ]
  },
  {
   "cell_type": "code",
   "execution_count": 150,
   "metadata": {},
   "outputs": [
    {
     "name": "stdout",
     "output_type": "stream",
     "text": [
      "0.906936\n"
     ]
    }
   ],
   "source": [
    "rates = wise_client.get_rates('USD','EUR')[0]['rate']\n",
    "print(rates)"
   ]
  },
  {
   "cell_type": "code",
   "execution_count": 107,
   "metadata": {},
   "outputs": [
    {
     "name": "stdout",
     "output_type": "stream",
     "text": [
      "1113.29 10.97\n",
      "{'source': 'USD', 'target': 'EUR', 'sourceAmount': 1113.29, 'targetAmount': 1000.0, 'type': 'REGULAR', 'rate': 0.907175, 'createdTime': '2023-07-12T09:23:53.971Z', 'rateType': 'FIXED', 'deliveryEstimate': '2023-07-13T09:31:00Z', 'fee': 10.97, 'feeDetails': {'transferwise': 5.63, 'payIn': 5.34, 'discount': 0, 'priceSetId': 129, 'partner': 0.0}, 'allowedProfileTypes': ['PERSONAL', 'BUSINESS'], 'guaranteedTargetAmount': False, 'ofSourceAmount': False}\n"
     ]
    }
   ],
   "source": [
    "true_change = wise_client.get_true_change('USD','EUR',1000)\n",
    "\n",
    "print(true_change['sourceAmount'], true_change['fee'])\n",
    "print(true_change)"
   ]
  },
  {
   "cell_type": "code",
   "execution_count": 116,
   "metadata": {},
   "outputs": [
    {
     "data": {
      "text/plain": [
       "{'source': 'USD',\n",
       " 'target': 'EUR',\n",
       " 'sourceAmount': 1000.0,\n",
       " 'targetAmount': 897.57,\n",
       " 'type': 'REGULAR',\n",
       " 'rate': 0.907076,\n",
       " 'createdTime': '2023-07-12T09:37:52.351Z',\n",
       " 'rateType': 'FIXED',\n",
       " 'deliveryEstimate': '2023-07-13T09:31:00Z',\n",
       " 'fee': 10.48,\n",
       " 'feeDetails': {'transferwise': 5.14,\n",
       "  'payIn': 5.34,\n",
       "  'discount': 0,\n",
       "  'priceSetId': 129,\n",
       "  'partner': 0.0},\n",
       " 'allowedProfileTypes': ['PERSONAL', 'BUSINESS'],\n",
       " 'guaranteedTargetAmount': False,\n",
       " 'ofSourceAmount': True}"
      ]
     },
     "execution_count": 116,
     "metadata": {},
     "output_type": "execute_result"
    }
   ],
   "source": [
    "true_change = wise_client.get_true_change_source('USD','EUR',1000)\n",
    "true_change"
   ]
  },
  {
   "cell_type": "code",
   "execution_count": 104,
   "metadata": {},
   "outputs": [
    {
     "ename": "AttributeError",
     "evalue": "module 'keys' has no attribute 'RECIPIENT_ID'",
     "output_type": "error",
     "traceback": [
      "\u001b[1;31m---------------------------------------------------------------------------\u001b[0m",
      "\u001b[1;31mAttributeError\u001b[0m                            Traceback (most recent call last)",
      "\u001b[1;32mc:\\Users\\theom\\Desktop\\INFRATAL\\Wise API\\wise_api_client.ipynb Cell 10\u001b[0m in \u001b[0;36m<cell line: 15>\u001b[1;34m()\u001b[0m\n\u001b[0;32m     <a href='vscode-notebook-cell:/c%3A/Users/theom/Desktop/INFRATAL/Wise%20API/wise_api_client.ipynb#W5sZmlsZQ%3D%3D?line=11'>12</a>\u001b[0m eur_balance_id \u001b[39m=\u001b[39m \u001b[39mnext\u001b[39m((balance[\u001b[39m'\u001b[39m\u001b[39mid\u001b[39m\u001b[39m'\u001b[39m] \u001b[39mfor\u001b[39;00m balance \u001b[39min\u001b[39;00m balances[\u001b[39m0\u001b[39m][\u001b[39m'\u001b[39m\u001b[39mbalances\u001b[39m\u001b[39m'\u001b[39m] \u001b[39mif\u001b[39;00m balance[\u001b[39m'\u001b[39m\u001b[39mcurrency\u001b[39m\u001b[39m'\u001b[39m] \u001b[39m==\u001b[39m \u001b[39m'\u001b[39m\u001b[39mEUR\u001b[39m\u001b[39m'\u001b[39m), \u001b[39mNone\u001b[39;00m)\n\u001b[0;32m     <a href='vscode-notebook-cell:/c%3A/Users/theom/Desktop/INFRATAL/Wise%20API/wise_api_client.ipynb#W5sZmlsZQ%3D%3D?line=13'>14</a>\u001b[0m \u001b[39m# Initiate a transfer\u001b[39;00m\n\u001b[1;32m---> <a href='vscode-notebook-cell:/c%3A/Users/theom/Desktop/INFRATAL/Wise%20API/wise_api_client.ipynb#W5sZmlsZQ%3D%3D?line=14'>15</a>\u001b[0m target_account_id \u001b[39m=\u001b[39m keys\u001b[39m.\u001b[39;49mRECIPIENT_ID\n\u001b[0;32m     <a href='vscode-notebook-cell:/c%3A/Users/theom/Desktop/INFRATAL/Wise%20API/wise_api_client.ipynb#W5sZmlsZQ%3D%3D?line=15'>16</a>\u001b[0m reference \u001b[39m=\u001b[39m \u001b[39m'\u001b[39m\u001b[39mreference\u001b[39m\u001b[39m'\u001b[39m  \u001b[39m# replace this with your reference text\u001b[39;00m\n\u001b[0;32m     <a href='vscode-notebook-cell:/c%3A/Users/theom/Desktop/INFRATAL/Wise%20API/wise_api_client.ipynb#W5sZmlsZQ%3D%3D?line=16'>17</a>\u001b[0m transfer_data \u001b[39m=\u001b[39m wise_client\u001b[39m.\u001b[39minitiate_transfer(target_account_id, quote_data[\u001b[39m'\u001b[39m\u001b[39mid\u001b[39m\u001b[39m'\u001b[39m], reference)\n",
      "\u001b[1;31mAttributeError\u001b[0m: module 'keys' has no attribute 'RECIPIENT_ID'"
     ]
    }
   ],
   "source": [
    "# Create a Wise client\n",
    "wise_client = WiseClient(keys.API)\n",
    "\n",
    "# Create a quote\n",
    "profile_id = keys.PROFILE_ID # replace this with your profile id\n",
    "quote_data = wise_client.create_quote(profile_id, 'USD', 'EUR', 100)\n",
    "\n",
    "balances = wise_client.get_balance(profile_id)\n",
    "\n",
    "# Find USD and EUR balance ids\n",
    "usd_balance_id = next((balance['id'] for balance in balances[0]['balances'] if balance['currency'] == 'USD'), None)\n",
    "eur_balance_id = next((balance['id'] for balance in balances[0]['balances'] if balance['currency'] == 'EUR'), None)\n",
    "\n",
    "# Initiate a transfer\n",
    "target_account_id = keys.RECIPIENT_ID\n",
    "reference = 'reference'  # replace this with your reference text\n",
    "transfer_data = wise_client.initiate_transfer(target_account_id, quote_data['id'], reference)\n",
    "\n",
    "payment_data = wise_client.make_payment(profile_id, transfer_data['id'])\n",
    "\n",
    "print(payment_data)"
   ]
  }
 ],
 "metadata": {
  "kernelspec": {
   "display_name": "Python 3",
   "language": "python",
   "name": "python3"
  },
  "language_info": {
   "codemirror_mode": {
    "name": "ipython",
    "version": 3
   },
   "file_extension": ".py",
   "mimetype": "text/x-python",
   "name": "python",
   "nbconvert_exporter": "python",
   "pygments_lexer": "ipython3",
   "version": "3.9.13"
  },
  "orig_nbformat": 4
 },
 "nbformat": 4,
 "nbformat_minor": 2
}
